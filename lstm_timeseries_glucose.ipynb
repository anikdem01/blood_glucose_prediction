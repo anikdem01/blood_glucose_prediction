{
  "nbformat": 4,
  "nbformat_minor": 0,
  "metadata": {
    "colab": {
      "provenance": [],
      "collapsed_sections": [
        "radbiFjcGT3-",
        "3ro-2P-SZbLa",
        "__q3PwUhKXDV"
      ],
      "gpuType": "T4",
      "mount_file_id": "1fsq32AWuCkVPlivvqsyjqxO-J4EokVps",
      "authorship_tag": "ABX9TyNkp2viyKFH/AZZf5Js+rXP",
      "include_colab_link": true
    },
    "kernelspec": {
      "name": "python3",
      "display_name": "Python 3"
    },
    "language_info": {
      "name": "python"
    },
    "accelerator": "GPU"
  },
  "cells": [
    {
      "cell_type": "markdown",
      "metadata": {
        "id": "view-in-github",
        "colab_type": "text"
      },
      "source": [
        "<a href=\"https://colab.research.google.com/github/anikdem01/blood_glucose_prediction/blob/main/lstm_timeseries_glucose.ipynb\" target=\"_parent\"><img src=\"https://colab.research.google.com/assets/colab-badge.svg\" alt=\"Open In Colab\"/></a>"
      ]
    },
    {
      "cell_type": "code",
      "source": [
        "train_csv_path = '/content/drive/MyDrive/ML/lstm_timeseries_glucose/brist1d/train.csv'\n",
        "test_csv_path = '/content/drive/MyDrive/ML/lstm_timeseries_glucose/brist1d/test.csv'\n",
        "sub_csv_path = '/content/drive/MyDrive/ML/lstm_timeseries_glucose/brist1d/sample_submission.csv'"
      ],
      "metadata": {
        "id": "NdiBnlb1KdBq"
      },
      "execution_count": 32,
      "outputs": []
    },
    {
      "cell_type": "code",
      "execution_count": 33,
      "metadata": {
        "id": "05ldRWR4qTL5"
      },
      "outputs": [],
      "source": [
        "import tensorflow as tf\n",
        "import os\n",
        "import pandas as pd\n",
        "import numpy as np"
      ]
    },
    {
      "cell_type": "code",
      "source": [
        "df_train = pd.read_csv(train_csv_path, header=0, index_col=0)"
      ],
      "metadata": {
        "colab": {
          "base_uri": "https://localhost:8080/"
        },
        "id": "EGlWM2C4Kahv",
        "outputId": "b6ce4602-a5e1-43c7-9c90-b414d9012ecd"
      },
      "execution_count": 34,
      "outputs": [
        {
          "output_type": "stream",
          "name": "stderr",
          "text": [
            "<ipython-input-34-14ba99d5f92b>:1: DtypeWarning: Columns (435,436,437,438,439,440,441,442,443,444,445,446,447,448,449,450,451,452,453,454,455,456,457,458,459,460,461,462,463,464,465,466,467,468,469,470,471,472,473,474,475,476,477,478,479,480,481,482,483,484,485,486,487,488,489,490,491,492,493,494,495,496,497,498,499,500,501,502,503,504,505,506) have mixed types. Specify dtype option on import or set low_memory=False.\n",
            "  df_train = pd.read_csv(train_csv_path, header=0, index_col=0)\n"
          ]
        }
      ]
    },
    {
      "cell_type": "code",
      "source": [
        "df_train"
      ],
      "metadata": {
        "colab": {
          "base_uri": "https://localhost:8080/",
          "height": 475
        },
        "id": "jFnBI_Qb1gr5",
        "outputId": "608283ac-8aa9-4d5e-8b8c-5402e8cfc3a6"
      },
      "execution_count": 83,
      "outputs": [
        {
          "output_type": "execute_result",
          "data": {
            "text/plain": [
              "          p_num      time  bg-5:55  bg-5:50  bg-5:45  bg-5:40  bg-5:35  \\\n",
              "id                                                                       \n",
              "p01_0       p01  06:10:00      NaN      NaN      9.6      NaN      NaN   \n",
              "p01_1       p01  06:25:00      NaN      NaN      9.7      NaN      NaN   \n",
              "p01_2       p01  06:40:00      NaN      NaN      9.2      NaN      NaN   \n",
              "p01_3       p01  06:55:00      NaN      NaN      8.7      NaN      NaN   \n",
              "p01_4       p01  07:10:00      NaN      NaN      8.4      NaN      NaN   \n",
              "...         ...       ...      ...      ...      ...      ...      ...   \n",
              "p12_25294   p12  23:35:00      8.8      9.1      9.2      9.4      9.8   \n",
              "p12_25295   p12  23:40:00      9.1      9.2      9.4      9.8     10.2   \n",
              "p12_25296   p12  23:45:00      9.2      9.4      9.8     10.2     10.4   \n",
              "p12_25297   p12  23:50:00      9.4      9.8     10.2     10.4     10.3   \n",
              "p12_25298   p12  23:55:00      9.8     10.2     10.4     10.3     10.1   \n",
              "\n",
              "           bg-5:30  bg-5:25  bg-5:20  ...  activity-0:40  activity-0:35  \\\n",
              "id                                    ...                                 \n",
              "p01_0          9.7      NaN      NaN  ...            NaN            NaN   \n",
              "p01_1          9.2      NaN      NaN  ...            NaN            NaN   \n",
              "p01_2          8.7      NaN      NaN  ...            NaN            NaN   \n",
              "p01_3          8.4      NaN      NaN  ...            NaN            NaN   \n",
              "p01_4          8.1      NaN      NaN  ...            NaN            NaN   \n",
              "...            ...      ...      ...  ...            ...            ...   \n",
              "p12_25294     10.2     10.4     10.3  ...            NaN            NaN   \n",
              "p12_25295     10.4     10.3     10.1  ...            NaN            NaN   \n",
              "p12_25296     10.3     10.1     10.0  ...            NaN            NaN   \n",
              "p12_25297     10.1     10.0      9.8  ...            NaN            NaN   \n",
              "p12_25298     10.0      9.8      9.5  ...            NaN            NaN   \n",
              "\n",
              "           activity-0:30  activity-0:25  activity-0:20  activity-0:15  \\\n",
              "id                                                                      \n",
              "p01_0                NaN            NaN            NaN            NaN   \n",
              "p01_1                NaN            NaN            NaN            NaN   \n",
              "p01_2                NaN            NaN            NaN            NaN   \n",
              "p01_3                NaN            NaN            NaN            NaN   \n",
              "p01_4                NaN            NaN            NaN            NaN   \n",
              "...                  ...            ...            ...            ...   \n",
              "p12_25294            NaN            NaN            NaN            NaN   \n",
              "p12_25295            NaN            NaN            NaN            NaN   \n",
              "p12_25296            NaN            NaN            NaN            NaN   \n",
              "p12_25297            NaN            NaN            NaN            NaN   \n",
              "p12_25298            NaN            NaN            NaN            NaN   \n",
              "\n",
              "           activity-0:10  activity-0:05  activity-0:00  bg+1:00  \n",
              "id                                                               \n",
              "p01_0                NaN            NaN            NaN     13.4  \n",
              "p01_1                NaN            NaN            NaN     12.8  \n",
              "p01_2                NaN            NaN            NaN     15.5  \n",
              "p01_3                NaN            NaN            NaN     14.8  \n",
              "p01_4                NaN            NaN            NaN     12.7  \n",
              "...                  ...            ...            ...      ...  \n",
              "p12_25294            NaN            NaN            NaN     11.1  \n",
              "p12_25295            NaN            NaN            NaN     10.9  \n",
              "p12_25296            NaN            NaN            NaN     10.7  \n",
              "p12_25297            NaN            NaN            NaN     10.5  \n",
              "p12_25298            NaN            NaN            NaN     10.2  \n",
              "\n",
              "[177024 rows x 507 columns]"
            ],
            "text/html": [
              "\n",
              "  <div id=\"df-6fe6d9ad-e5ea-47e5-95b9-2a0fcf849a10\" class=\"colab-df-container\">\n",
              "    <div>\n",
              "<style scoped>\n",
              "    .dataframe tbody tr th:only-of-type {\n",
              "        vertical-align: middle;\n",
              "    }\n",
              "\n",
              "    .dataframe tbody tr th {\n",
              "        vertical-align: top;\n",
              "    }\n",
              "\n",
              "    .dataframe thead th {\n",
              "        text-align: right;\n",
              "    }\n",
              "</style>\n",
              "<table border=\"1\" class=\"dataframe\">\n",
              "  <thead>\n",
              "    <tr style=\"text-align: right;\">\n",
              "      <th></th>\n",
              "      <th>p_num</th>\n",
              "      <th>time</th>\n",
              "      <th>bg-5:55</th>\n",
              "      <th>bg-5:50</th>\n",
              "      <th>bg-5:45</th>\n",
              "      <th>bg-5:40</th>\n",
              "      <th>bg-5:35</th>\n",
              "      <th>bg-5:30</th>\n",
              "      <th>bg-5:25</th>\n",
              "      <th>bg-5:20</th>\n",
              "      <th>...</th>\n",
              "      <th>activity-0:40</th>\n",
              "      <th>activity-0:35</th>\n",
              "      <th>activity-0:30</th>\n",
              "      <th>activity-0:25</th>\n",
              "      <th>activity-0:20</th>\n",
              "      <th>activity-0:15</th>\n",
              "      <th>activity-0:10</th>\n",
              "      <th>activity-0:05</th>\n",
              "      <th>activity-0:00</th>\n",
              "      <th>bg+1:00</th>\n",
              "    </tr>\n",
              "    <tr>\n",
              "      <th>id</th>\n",
              "      <th></th>\n",
              "      <th></th>\n",
              "      <th></th>\n",
              "      <th></th>\n",
              "      <th></th>\n",
              "      <th></th>\n",
              "      <th></th>\n",
              "      <th></th>\n",
              "      <th></th>\n",
              "      <th></th>\n",
              "      <th></th>\n",
              "      <th></th>\n",
              "      <th></th>\n",
              "      <th></th>\n",
              "      <th></th>\n",
              "      <th></th>\n",
              "      <th></th>\n",
              "      <th></th>\n",
              "      <th></th>\n",
              "      <th></th>\n",
              "      <th></th>\n",
              "    </tr>\n",
              "  </thead>\n",
              "  <tbody>\n",
              "    <tr>\n",
              "      <th>p01_0</th>\n",
              "      <td>p01</td>\n",
              "      <td>06:10:00</td>\n",
              "      <td>NaN</td>\n",
              "      <td>NaN</td>\n",
              "      <td>9.6</td>\n",
              "      <td>NaN</td>\n",
              "      <td>NaN</td>\n",
              "      <td>9.7</td>\n",
              "      <td>NaN</td>\n",
              "      <td>NaN</td>\n",
              "      <td>...</td>\n",
              "      <td>NaN</td>\n",
              "      <td>NaN</td>\n",
              "      <td>NaN</td>\n",
              "      <td>NaN</td>\n",
              "      <td>NaN</td>\n",
              "      <td>NaN</td>\n",
              "      <td>NaN</td>\n",
              "      <td>NaN</td>\n",
              "      <td>NaN</td>\n",
              "      <td>13.4</td>\n",
              "    </tr>\n",
              "    <tr>\n",
              "      <th>p01_1</th>\n",
              "      <td>p01</td>\n",
              "      <td>06:25:00</td>\n",
              "      <td>NaN</td>\n",
              "      <td>NaN</td>\n",
              "      <td>9.7</td>\n",
              "      <td>NaN</td>\n",
              "      <td>NaN</td>\n",
              "      <td>9.2</td>\n",
              "      <td>NaN</td>\n",
              "      <td>NaN</td>\n",
              "      <td>...</td>\n",
              "      <td>NaN</td>\n",
              "      <td>NaN</td>\n",
              "      <td>NaN</td>\n",
              "      <td>NaN</td>\n",
              "      <td>NaN</td>\n",
              "      <td>NaN</td>\n",
              "      <td>NaN</td>\n",
              "      <td>NaN</td>\n",
              "      <td>NaN</td>\n",
              "      <td>12.8</td>\n",
              "    </tr>\n",
              "    <tr>\n",
              "      <th>p01_2</th>\n",
              "      <td>p01</td>\n",
              "      <td>06:40:00</td>\n",
              "      <td>NaN</td>\n",
              "      <td>NaN</td>\n",
              "      <td>9.2</td>\n",
              "      <td>NaN</td>\n",
              "      <td>NaN</td>\n",
              "      <td>8.7</td>\n",
              "      <td>NaN</td>\n",
              "      <td>NaN</td>\n",
              "      <td>...</td>\n",
              "      <td>NaN</td>\n",
              "      <td>NaN</td>\n",
              "      <td>NaN</td>\n",
              "      <td>NaN</td>\n",
              "      <td>NaN</td>\n",
              "      <td>NaN</td>\n",
              "      <td>NaN</td>\n",
              "      <td>NaN</td>\n",
              "      <td>NaN</td>\n",
              "      <td>15.5</td>\n",
              "    </tr>\n",
              "    <tr>\n",
              "      <th>p01_3</th>\n",
              "      <td>p01</td>\n",
              "      <td>06:55:00</td>\n",
              "      <td>NaN</td>\n",
              "      <td>NaN</td>\n",
              "      <td>8.7</td>\n",
              "      <td>NaN</td>\n",
              "      <td>NaN</td>\n",
              "      <td>8.4</td>\n",
              "      <td>NaN</td>\n",
              "      <td>NaN</td>\n",
              "      <td>...</td>\n",
              "      <td>NaN</td>\n",
              "      <td>NaN</td>\n",
              "      <td>NaN</td>\n",
              "      <td>NaN</td>\n",
              "      <td>NaN</td>\n",
              "      <td>NaN</td>\n",
              "      <td>NaN</td>\n",
              "      <td>NaN</td>\n",
              "      <td>NaN</td>\n",
              "      <td>14.8</td>\n",
              "    </tr>\n",
              "    <tr>\n",
              "      <th>p01_4</th>\n",
              "      <td>p01</td>\n",
              "      <td>07:10:00</td>\n",
              "      <td>NaN</td>\n",
              "      <td>NaN</td>\n",
              "      <td>8.4</td>\n",
              "      <td>NaN</td>\n",
              "      <td>NaN</td>\n",
              "      <td>8.1</td>\n",
              "      <td>NaN</td>\n",
              "      <td>NaN</td>\n",
              "      <td>...</td>\n",
              "      <td>NaN</td>\n",
              "      <td>NaN</td>\n",
              "      <td>NaN</td>\n",
              "      <td>NaN</td>\n",
              "      <td>NaN</td>\n",
              "      <td>NaN</td>\n",
              "      <td>NaN</td>\n",
              "      <td>NaN</td>\n",
              "      <td>NaN</td>\n",
              "      <td>12.7</td>\n",
              "    </tr>\n",
              "    <tr>\n",
              "      <th>...</th>\n",
              "      <td>...</td>\n",
              "      <td>...</td>\n",
              "      <td>...</td>\n",
              "      <td>...</td>\n",
              "      <td>...</td>\n",
              "      <td>...</td>\n",
              "      <td>...</td>\n",
              "      <td>...</td>\n",
              "      <td>...</td>\n",
              "      <td>...</td>\n",
              "      <td>...</td>\n",
              "      <td>...</td>\n",
              "      <td>...</td>\n",
              "      <td>...</td>\n",
              "      <td>...</td>\n",
              "      <td>...</td>\n",
              "      <td>...</td>\n",
              "      <td>...</td>\n",
              "      <td>...</td>\n",
              "      <td>...</td>\n",
              "      <td>...</td>\n",
              "    </tr>\n",
              "    <tr>\n",
              "      <th>p12_25294</th>\n",
              "      <td>p12</td>\n",
              "      <td>23:35:00</td>\n",
              "      <td>8.8</td>\n",
              "      <td>9.1</td>\n",
              "      <td>9.2</td>\n",
              "      <td>9.4</td>\n",
              "      <td>9.8</td>\n",
              "      <td>10.2</td>\n",
              "      <td>10.4</td>\n",
              "      <td>10.3</td>\n",
              "      <td>...</td>\n",
              "      <td>NaN</td>\n",
              "      <td>NaN</td>\n",
              "      <td>NaN</td>\n",
              "      <td>NaN</td>\n",
              "      <td>NaN</td>\n",
              "      <td>NaN</td>\n",
              "      <td>NaN</td>\n",
              "      <td>NaN</td>\n",
              "      <td>NaN</td>\n",
              "      <td>11.1</td>\n",
              "    </tr>\n",
              "    <tr>\n",
              "      <th>p12_25295</th>\n",
              "      <td>p12</td>\n",
              "      <td>23:40:00</td>\n",
              "      <td>9.1</td>\n",
              "      <td>9.2</td>\n",
              "      <td>9.4</td>\n",
              "      <td>9.8</td>\n",
              "      <td>10.2</td>\n",
              "      <td>10.4</td>\n",
              "      <td>10.3</td>\n",
              "      <td>10.1</td>\n",
              "      <td>...</td>\n",
              "      <td>NaN</td>\n",
              "      <td>NaN</td>\n",
              "      <td>NaN</td>\n",
              "      <td>NaN</td>\n",
              "      <td>NaN</td>\n",
              "      <td>NaN</td>\n",
              "      <td>NaN</td>\n",
              "      <td>NaN</td>\n",
              "      <td>NaN</td>\n",
              "      <td>10.9</td>\n",
              "    </tr>\n",
              "    <tr>\n",
              "      <th>p12_25296</th>\n",
              "      <td>p12</td>\n",
              "      <td>23:45:00</td>\n",
              "      <td>9.2</td>\n",
              "      <td>9.4</td>\n",
              "      <td>9.8</td>\n",
              "      <td>10.2</td>\n",
              "      <td>10.4</td>\n",
              "      <td>10.3</td>\n",
              "      <td>10.1</td>\n",
              "      <td>10.0</td>\n",
              "      <td>...</td>\n",
              "      <td>NaN</td>\n",
              "      <td>NaN</td>\n",
              "      <td>NaN</td>\n",
              "      <td>NaN</td>\n",
              "      <td>NaN</td>\n",
              "      <td>NaN</td>\n",
              "      <td>NaN</td>\n",
              "      <td>NaN</td>\n",
              "      <td>NaN</td>\n",
              "      <td>10.7</td>\n",
              "    </tr>\n",
              "    <tr>\n",
              "      <th>p12_25297</th>\n",
              "      <td>p12</td>\n",
              "      <td>23:50:00</td>\n",
              "      <td>9.4</td>\n",
              "      <td>9.8</td>\n",
              "      <td>10.2</td>\n",
              "      <td>10.4</td>\n",
              "      <td>10.3</td>\n",
              "      <td>10.1</td>\n",
              "      <td>10.0</td>\n",
              "      <td>9.8</td>\n",
              "      <td>...</td>\n",
              "      <td>NaN</td>\n",
              "      <td>NaN</td>\n",
              "      <td>NaN</td>\n",
              "      <td>NaN</td>\n",
              "      <td>NaN</td>\n",
              "      <td>NaN</td>\n",
              "      <td>NaN</td>\n",
              "      <td>NaN</td>\n",
              "      <td>NaN</td>\n",
              "      <td>10.5</td>\n",
              "    </tr>\n",
              "    <tr>\n",
              "      <th>p12_25298</th>\n",
              "      <td>p12</td>\n",
              "      <td>23:55:00</td>\n",
              "      <td>9.8</td>\n",
              "      <td>10.2</td>\n",
              "      <td>10.4</td>\n",
              "      <td>10.3</td>\n",
              "      <td>10.1</td>\n",
              "      <td>10.0</td>\n",
              "      <td>9.8</td>\n",
              "      <td>9.5</td>\n",
              "      <td>...</td>\n",
              "      <td>NaN</td>\n",
              "      <td>NaN</td>\n",
              "      <td>NaN</td>\n",
              "      <td>NaN</td>\n",
              "      <td>NaN</td>\n",
              "      <td>NaN</td>\n",
              "      <td>NaN</td>\n",
              "      <td>NaN</td>\n",
              "      <td>NaN</td>\n",
              "      <td>10.2</td>\n",
              "    </tr>\n",
              "  </tbody>\n",
              "</table>\n",
              "<p>177024 rows × 507 columns</p>\n",
              "</div>\n",
              "    <div class=\"colab-df-buttons\">\n",
              "\n",
              "  <div class=\"colab-df-container\">\n",
              "    <button class=\"colab-df-convert\" onclick=\"convertToInteractive('df-6fe6d9ad-e5ea-47e5-95b9-2a0fcf849a10')\"\n",
              "            title=\"Convert this dataframe to an interactive table.\"\n",
              "            style=\"display:none;\">\n",
              "\n",
              "  <svg xmlns=\"http://www.w3.org/2000/svg\" height=\"24px\" viewBox=\"0 -960 960 960\">\n",
              "    <path d=\"M120-120v-720h720v720H120Zm60-500h600v-160H180v160Zm220 220h160v-160H400v160Zm0 220h160v-160H400v160ZM180-400h160v-160H180v160Zm440 0h160v-160H620v160ZM180-180h160v-160H180v160Zm440 0h160v-160H620v160Z\"/>\n",
              "  </svg>\n",
              "    </button>\n",
              "\n",
              "  <style>\n",
              "    .colab-df-container {\n",
              "      display:flex;\n",
              "      gap: 12px;\n",
              "    }\n",
              "\n",
              "    .colab-df-convert {\n",
              "      background-color: #E8F0FE;\n",
              "      border: none;\n",
              "      border-radius: 50%;\n",
              "      cursor: pointer;\n",
              "      display: none;\n",
              "      fill: #1967D2;\n",
              "      height: 32px;\n",
              "      padding: 0 0 0 0;\n",
              "      width: 32px;\n",
              "    }\n",
              "\n",
              "    .colab-df-convert:hover {\n",
              "      background-color: #E2EBFA;\n",
              "      box-shadow: 0px 1px 2px rgba(60, 64, 67, 0.3), 0px 1px 3px 1px rgba(60, 64, 67, 0.15);\n",
              "      fill: #174EA6;\n",
              "    }\n",
              "\n",
              "    .colab-df-buttons div {\n",
              "      margin-bottom: 4px;\n",
              "    }\n",
              "\n",
              "    [theme=dark] .colab-df-convert {\n",
              "      background-color: #3B4455;\n",
              "      fill: #D2E3FC;\n",
              "    }\n",
              "\n",
              "    [theme=dark] .colab-df-convert:hover {\n",
              "      background-color: #434B5C;\n",
              "      box-shadow: 0px 1px 3px 1px rgba(0, 0, 0, 0.15);\n",
              "      filter: drop-shadow(0px 1px 2px rgba(0, 0, 0, 0.3));\n",
              "      fill: #FFFFFF;\n",
              "    }\n",
              "  </style>\n",
              "\n",
              "    <script>\n",
              "      const buttonEl =\n",
              "        document.querySelector('#df-6fe6d9ad-e5ea-47e5-95b9-2a0fcf849a10 button.colab-df-convert');\n",
              "      buttonEl.style.display =\n",
              "        google.colab.kernel.accessAllowed ? 'block' : 'none';\n",
              "\n",
              "      async function convertToInteractive(key) {\n",
              "        const element = document.querySelector('#df-6fe6d9ad-e5ea-47e5-95b9-2a0fcf849a10');\n",
              "        const dataTable =\n",
              "          await google.colab.kernel.invokeFunction('convertToInteractive',\n",
              "                                                    [key], {});\n",
              "        if (!dataTable) return;\n",
              "\n",
              "        const docLinkHtml = 'Like what you see? Visit the ' +\n",
              "          '<a target=\"_blank\" href=https://colab.research.google.com/notebooks/data_table.ipynb>data table notebook</a>'\n",
              "          + ' to learn more about interactive tables.';\n",
              "        element.innerHTML = '';\n",
              "        dataTable['output_type'] = 'display_data';\n",
              "        await google.colab.output.renderOutput(dataTable, element);\n",
              "        const docLink = document.createElement('div');\n",
              "        docLink.innerHTML = docLinkHtml;\n",
              "        element.appendChild(docLink);\n",
              "      }\n",
              "    </script>\n",
              "  </div>\n",
              "\n",
              "\n",
              "<div id=\"df-a77c7240-9a27-4705-96a3-bfd0ed47dd63\">\n",
              "  <button class=\"colab-df-quickchart\" onclick=\"quickchart('df-a77c7240-9a27-4705-96a3-bfd0ed47dd63')\"\n",
              "            title=\"Suggest charts\"\n",
              "            style=\"display:none;\">\n",
              "\n",
              "<svg xmlns=\"http://www.w3.org/2000/svg\" height=\"24px\"viewBox=\"0 0 24 24\"\n",
              "     width=\"24px\">\n",
              "    <g>\n",
              "        <path d=\"M19 3H5c-1.1 0-2 .9-2 2v14c0 1.1.9 2 2 2h14c1.1 0 2-.9 2-2V5c0-1.1-.9-2-2-2zM9 17H7v-7h2v7zm4 0h-2V7h2v10zm4 0h-2v-4h2v4z\"/>\n",
              "    </g>\n",
              "</svg>\n",
              "  </button>\n",
              "\n",
              "<style>\n",
              "  .colab-df-quickchart {\n",
              "      --bg-color: #E8F0FE;\n",
              "      --fill-color: #1967D2;\n",
              "      --hover-bg-color: #E2EBFA;\n",
              "      --hover-fill-color: #174EA6;\n",
              "      --disabled-fill-color: #AAA;\n",
              "      --disabled-bg-color: #DDD;\n",
              "  }\n",
              "\n",
              "  [theme=dark] .colab-df-quickchart {\n",
              "      --bg-color: #3B4455;\n",
              "      --fill-color: #D2E3FC;\n",
              "      --hover-bg-color: #434B5C;\n",
              "      --hover-fill-color: #FFFFFF;\n",
              "      --disabled-bg-color: #3B4455;\n",
              "      --disabled-fill-color: #666;\n",
              "  }\n",
              "\n",
              "  .colab-df-quickchart {\n",
              "    background-color: var(--bg-color);\n",
              "    border: none;\n",
              "    border-radius: 50%;\n",
              "    cursor: pointer;\n",
              "    display: none;\n",
              "    fill: var(--fill-color);\n",
              "    height: 32px;\n",
              "    padding: 0;\n",
              "    width: 32px;\n",
              "  }\n",
              "\n",
              "  .colab-df-quickchart:hover {\n",
              "    background-color: var(--hover-bg-color);\n",
              "    box-shadow: 0 1px 2px rgba(60, 64, 67, 0.3), 0 1px 3px 1px rgba(60, 64, 67, 0.15);\n",
              "    fill: var(--button-hover-fill-color);\n",
              "  }\n",
              "\n",
              "  .colab-df-quickchart-complete:disabled,\n",
              "  .colab-df-quickchart-complete:disabled:hover {\n",
              "    background-color: var(--disabled-bg-color);\n",
              "    fill: var(--disabled-fill-color);\n",
              "    box-shadow: none;\n",
              "  }\n",
              "\n",
              "  .colab-df-spinner {\n",
              "    border: 2px solid var(--fill-color);\n",
              "    border-color: transparent;\n",
              "    border-bottom-color: var(--fill-color);\n",
              "    animation:\n",
              "      spin 1s steps(1) infinite;\n",
              "  }\n",
              "\n",
              "  @keyframes spin {\n",
              "    0% {\n",
              "      border-color: transparent;\n",
              "      border-bottom-color: var(--fill-color);\n",
              "      border-left-color: var(--fill-color);\n",
              "    }\n",
              "    20% {\n",
              "      border-color: transparent;\n",
              "      border-left-color: var(--fill-color);\n",
              "      border-top-color: var(--fill-color);\n",
              "    }\n",
              "    30% {\n",
              "      border-color: transparent;\n",
              "      border-left-color: var(--fill-color);\n",
              "      border-top-color: var(--fill-color);\n",
              "      border-right-color: var(--fill-color);\n",
              "    }\n",
              "    40% {\n",
              "      border-color: transparent;\n",
              "      border-right-color: var(--fill-color);\n",
              "      border-top-color: var(--fill-color);\n",
              "    }\n",
              "    60% {\n",
              "      border-color: transparent;\n",
              "      border-right-color: var(--fill-color);\n",
              "    }\n",
              "    80% {\n",
              "      border-color: transparent;\n",
              "      border-right-color: var(--fill-color);\n",
              "      border-bottom-color: var(--fill-color);\n",
              "    }\n",
              "    90% {\n",
              "      border-color: transparent;\n",
              "      border-bottom-color: var(--fill-color);\n",
              "    }\n",
              "  }\n",
              "</style>\n",
              "\n",
              "  <script>\n",
              "    async function quickchart(key) {\n",
              "      const quickchartButtonEl =\n",
              "        document.querySelector('#' + key + ' button');\n",
              "      quickchartButtonEl.disabled = true;  // To prevent multiple clicks.\n",
              "      quickchartButtonEl.classList.add('colab-df-spinner');\n",
              "      try {\n",
              "        const charts = await google.colab.kernel.invokeFunction(\n",
              "            'suggestCharts', [key], {});\n",
              "      } catch (error) {\n",
              "        console.error('Error during call to suggestCharts:', error);\n",
              "      }\n",
              "      quickchartButtonEl.classList.remove('colab-df-spinner');\n",
              "      quickchartButtonEl.classList.add('colab-df-quickchart-complete');\n",
              "    }\n",
              "    (() => {\n",
              "      let quickchartButtonEl =\n",
              "        document.querySelector('#df-a77c7240-9a27-4705-96a3-bfd0ed47dd63 button');\n",
              "      quickchartButtonEl.style.display =\n",
              "        google.colab.kernel.accessAllowed ? 'block' : 'none';\n",
              "    })();\n",
              "  </script>\n",
              "</div>\n",
              "\n",
              "  <div id=\"id_97cec193-f4c2-4a8e-a086-463696147545\">\n",
              "    <style>\n",
              "      .colab-df-generate {\n",
              "        background-color: #E8F0FE;\n",
              "        border: none;\n",
              "        border-radius: 50%;\n",
              "        cursor: pointer;\n",
              "        display: none;\n",
              "        fill: #1967D2;\n",
              "        height: 32px;\n",
              "        padding: 0 0 0 0;\n",
              "        width: 32px;\n",
              "      }\n",
              "\n",
              "      .colab-df-generate:hover {\n",
              "        background-color: #E2EBFA;\n",
              "        box-shadow: 0px 1px 2px rgba(60, 64, 67, 0.3), 0px 1px 3px 1px rgba(60, 64, 67, 0.15);\n",
              "        fill: #174EA6;\n",
              "      }\n",
              "\n",
              "      [theme=dark] .colab-df-generate {\n",
              "        background-color: #3B4455;\n",
              "        fill: #D2E3FC;\n",
              "      }\n",
              "\n",
              "      [theme=dark] .colab-df-generate:hover {\n",
              "        background-color: #434B5C;\n",
              "        box-shadow: 0px 1px 3px 1px rgba(0, 0, 0, 0.15);\n",
              "        filter: drop-shadow(0px 1px 2px rgba(0, 0, 0, 0.3));\n",
              "        fill: #FFFFFF;\n",
              "      }\n",
              "    </style>\n",
              "    <button class=\"colab-df-generate\" onclick=\"generateWithVariable('df_train')\"\n",
              "            title=\"Generate code using this dataframe.\"\n",
              "            style=\"display:none;\">\n",
              "\n",
              "  <svg xmlns=\"http://www.w3.org/2000/svg\" height=\"24px\"viewBox=\"0 0 24 24\"\n",
              "       width=\"24px\">\n",
              "    <path d=\"M7,19H8.4L18.45,9,17,7.55,7,17.6ZM5,21V16.75L18.45,3.32a2,2,0,0,1,2.83,0l1.4,1.43a1.91,1.91,0,0,1,.58,1.4,1.91,1.91,0,0,1-.58,1.4L9.25,21ZM18.45,9,17,7.55Zm-12,3A5.31,5.31,0,0,0,4.9,8.1,5.31,5.31,0,0,0,1,6.5,5.31,5.31,0,0,0,4.9,4.9,5.31,5.31,0,0,0,6.5,1,5.31,5.31,0,0,0,8.1,4.9,5.31,5.31,0,0,0,12,6.5,5.46,5.46,0,0,0,6.5,12Z\"/>\n",
              "  </svg>\n",
              "    </button>\n",
              "    <script>\n",
              "      (() => {\n",
              "      const buttonEl =\n",
              "        document.querySelector('#id_97cec193-f4c2-4a8e-a086-463696147545 button.colab-df-generate');\n",
              "      buttonEl.style.display =\n",
              "        google.colab.kernel.accessAllowed ? 'block' : 'none';\n",
              "\n",
              "      buttonEl.onclick = () => {\n",
              "        google.colab.notebook.generateWithVariable('df_train');\n",
              "      }\n",
              "      })();\n",
              "    </script>\n",
              "  </div>\n",
              "\n",
              "    </div>\n",
              "  </div>\n"
            ],
            "application/vnd.google.colaboratory.intrinsic+json": {
              "type": "dataframe",
              "variable_name": "df_train"
            }
          },
          "metadata": {},
          "execution_count": 83
        }
      ]
    },
    {
      "cell_type": "markdown",
      "source": [
        "# Multivariate"
      ],
      "metadata": {
        "id": "3ro-2P-SZbLa"
      }
    },
    {
      "cell_type": "markdown",
      "source": [
        "## Pre-processing"
      ],
      "metadata": {
        "id": "MIIk8Y_gLXTw"
      }
    },
    {
      "cell_type": "code",
      "source": [
        "# Separating different categories of data\n",
        "\n",
        "from sklearn.impute import SimpleImputer\n",
        "imputer = SimpleImputer(strategy='mean')\n",
        "\n",
        "X_bg = imputer.fit_transform(df_train.filter(like='bg-'))\n",
        "\n",
        "X_insulin = imputer.fit_transform(df_train.filter(like='insulin'))\n",
        "\n",
        "X_cals = imputer.fit_transform(df_train.filter(like='cals'))\n",
        "\n",
        "X_hr = imputer.fit_transform(df_train.filter(like='hr'))\n",
        "\n",
        "X_time = df_train.filter(like='time')\n",
        "X_time['time'] = pd.to_datetime(X_time['time'], format='%H:%M:%S')\n",
        "X_time['time'] = X_time['time'].dt.hour * 60 + X_time['time'].dt.minute\n",
        "X_time = imputer.fit_transform(X_time)"
      ],
      "metadata": {
        "colab": {
          "base_uri": "https://localhost:8080/"
        },
        "id": "frzXd673ZiW0",
        "outputId": "c89c40cd-c570-4558-f81e-646a28d65f8d"
      },
      "execution_count": 128,
      "outputs": [
        {
          "output_type": "stream",
          "name": "stderr",
          "text": [
            "<ipython-input-128-febff16c219d>:15: SettingWithCopyWarning: \n",
            "A value is trying to be set on a copy of a slice from a DataFrame.\n",
            "Try using .loc[row_indexer,col_indexer] = value instead\n",
            "\n",
            "See the caveats in the documentation: https://pandas.pydata.org/pandas-docs/stable/user_guide/indexing.html#returning-a-view-versus-a-copy\n",
            "  X_time['time'] = pd.to_datetime(X_time['time'], format='%H:%M:%S')\n",
            "<ipython-input-128-febff16c219d>:16: SettingWithCopyWarning: \n",
            "A value is trying to be set on a copy of a slice from a DataFrame.\n",
            "Try using .loc[row_indexer,col_indexer] = value instead\n",
            "\n",
            "See the caveats in the documentation: https://pandas.pydata.org/pandas-docs/stable/user_guide/indexing.html#returning-a-view-versus-a-copy\n",
            "  X_time['time'] = X_time['time'].dt.hour * 60 + X_time['time'].dt.minute\n"
          ]
        }
      ]
    },
    {
      "cell_type": "code",
      "source": [
        "# shorten(arr, num) filters the last 5*num minutes of data\n",
        "# Here we choose to just use the last 5*15 minutes of data for insulin and blood glucose\n",
        "\n",
        "def shorten(arr, num):\n",
        "    new_arr = []\n",
        "    c = 0\n",
        "    for i in arr:\n",
        "        new_arr.append(arr[c][-num:])\n",
        "        c += 1\n",
        "    return new_arr\n",
        "\n"
      ],
      "metadata": {
        "id": "u37ax-v_2ZhO"
      },
      "execution_count": 129,
      "outputs": []
    },
    {
      "cell_type": "code",
      "source": [
        "X_bg = shorten(X_bg, 10)\n",
        "print(X_bg[0])"
      ],
      "metadata": {
        "colab": {
          "base_uri": "https://localhost:8080/"
        },
        "id": "Hfexh4NiyFpd",
        "outputId": "0605fdff-5e63-4869-a602-8e6c003178b4"
      },
      "execution_count": 130,
      "outputs": [
        {
          "output_type": "stream",
          "name": "stdout",
          "text": [
            "[17.5         8.21748321  8.22063294 17.3         8.21737625  8.21990337\n",
            " 16.2         8.21704673  8.2188189  15.1       ]\n"
          ]
        }
      ]
    },
    {
      "cell_type": "code",
      "source": [
        "X_insulin = shorten(X_insulin, 10)\n",
        "print(X_insulin[0])"
      ],
      "metadata": {
        "colab": {
          "base_uri": "https://localhost:8080/"
        },
        "id": "NXCYEk_c3Zpf",
        "outputId": "dadeba27-1a07-497c-883e-1f2a6809c3d8"
      },
      "execution_count": 131,
      "outputs": [
        {
          "output_type": "stream",
          "name": "stdout",
          "text": [
            "[0.0583 0.0583 0.0583 0.0583 0.0583 0.0583 0.0583 0.0583 0.0417 0.0417]\n"
          ]
        }
      ]
    },
    {
      "cell_type": "code",
      "source": [
        "# Normalise data to z-score values\n",
        "\n",
        "from sklearn.preprocessing import MinMaxScaler\n",
        "\n",
        "def flatten_array(data_array):\n",
        "    data_array = np.array(data_array, dtype=float)\n",
        "    mean = np.mean(data_array)\n",
        "    std_dev = np.std(data_array)\n",
        "    normalized_array = (data_array - mean) / std_dev\n",
        "    return normalized_array.tolist()\n",
        "\n",
        "X_bg = flatten_array(X_bg)\n",
        "X_insulin = flatten_array(X_insulin)\n",
        "\n",
        "X_bg[0]"
      ],
      "metadata": {
        "colab": {
          "base_uri": "https://localhost:8080/"
        },
        "id": "GGPZMHVpv3_4",
        "outputId": "b5da492f-a796-4d31-df63-e2b8a0c7df51"
      },
      "execution_count": 132,
      "outputs": [
        {
          "output_type": "execute_result",
          "data": {
            "text/plain": [
              "[3.3344242093347427,\n",
              " -0.008815960943401075,\n",
              " -0.007681539356989663,\n",
              " 3.262391155219748,\n",
              " -0.008854485909349903,\n",
              " -0.00794430541785074,\n",
              " 2.8662093575872754,\n",
              " -0.008973166102304012,\n",
              " -0.008334894396319669,\n",
              " 2.4700275599548034]"
            ]
          },
          "metadata": {},
          "execution_count": 132
        }
      ]
    },
    {
      "cell_type": "code",
      "source": [
        "X = np.hstack((X_bg, X_insulin))\n",
        "\n",
        "y = df_train.iloc[:, -1:].values.flatten() # bg+1:00\n",
        "\n",
        "X.shape, y.shape"
      ],
      "metadata": {
        "colab": {
          "base_uri": "https://localhost:8080/"
        },
        "id": "ge52mUPP2HmI",
        "outputId": "c8f72942-f7fd-47f0-c2b5-fdda61935e32"
      },
      "execution_count": 133,
      "outputs": [
        {
          "output_type": "execute_result",
          "data": {
            "text/plain": [
              "((177024, 20), (177024,))"
            ]
          },
          "metadata": {},
          "execution_count": 133
        }
      ]
    },
    {
      "cell_type": "code",
      "source": [
        "TRAIN = 140000\n",
        "VAL = 20000\n",
        "X_train, y_train = X[:TRAIN], y[:TRAIN]\n",
        "X_val, y_val = X[TRAIN:TRAIN+VAL], y[TRAIN: TRAIN+VAL]\n",
        "X_test, y_test = X[TRAIN+VAL:], y[TRAIN+VAL:]\n",
        "\n",
        "X_train.shape, y_train.shape, X_val.shape, y_val.shape, X_test.shape, y_test.shape"
      ],
      "metadata": {
        "colab": {
          "base_uri": "https://localhost:8080/"
        },
        "id": "ABJZxm96mSun",
        "outputId": "385a49e2-ab79-4927-b1c5-94f352a9c6d3"
      },
      "execution_count": 134,
      "outputs": [
        {
          "output_type": "execute_result",
          "data": {
            "text/plain": [
              "((140000, 20), (140000,), (20000, 20), (20000,), (17024, 20), (17024,))"
            ]
          },
          "metadata": {},
          "execution_count": 134
        }
      ]
    },
    {
      "cell_type": "code",
      "source": [
        "X_train = X_train.reshape(140000, 20, 1)\n",
        "X_val = X_val.reshape(20000, 20, 1)\n",
        "X_test = X_test.reshape(17024, 20, 1)\n",
        "\n",
        "X_train.shape, y_train.shape, X_val.shape, y_val.shape, X_test.shape, y_test.shape"
      ],
      "metadata": {
        "colab": {
          "base_uri": "https://localhost:8080/"
        },
        "id": "2qiI2yGammJk",
        "outputId": "a1879e42-aeb2-4e8a-a65f-358053cc3279"
      },
      "execution_count": 135,
      "outputs": [
        {
          "output_type": "execute_result",
          "data": {
            "text/plain": [
              "((140000, 20, 1),\n",
              " (140000,),\n",
              " (20000, 20, 1),\n",
              " (20000,),\n",
              " (17024, 20, 1),\n",
              " (17024,))"
            ]
          },
          "metadata": {},
          "execution_count": 135
        }
      ]
    },
    {
      "cell_type": "markdown",
      "source": [
        "## Building Model\n",
        "\n"
      ],
      "metadata": {
        "id": "N7WmealBLMyt"
      }
    },
    {
      "cell_type": "code",
      "source": [
        "from tensorflow.keras.models import Sequential\n",
        "from tensorflow.keras.layers import *\n",
        "from tensorflow.keras.callbacks import ModelCheckpoint\n",
        "from tensorflow.keras.losses import MeanSquaredError\n",
        "from tensorflow.keras.metrics import RootMeanSquaredError\n",
        "from tensorflow.keras.optimizers import Adam\n",
        "\n",
        "modelm = Sequential()\n",
        "modelm.add(InputLayer((289, 1)))\n",
        "modelm.add(LSTM(64))\n",
        "modelm.add(Dense(8, 'relu'))\n",
        "modelm.add(Dense(1, 'linear'))\n",
        "\n",
        "modelm.summary()"
      ],
      "metadata": {
        "colab": {
          "base_uri": "https://localhost:8080/",
          "height": 232
        },
        "id": "DXjYLEannl5R",
        "outputId": "ed1ff0ae-de19-42b5-f3fe-fbdf3c4f7457"
      },
      "execution_count": 136,
      "outputs": [
        {
          "output_type": "display_data",
          "data": {
            "text/plain": [
              "\u001b[1mModel: \"sequential_2\"\u001b[0m\n"
            ],
            "text/html": [
              "<pre style=\"white-space:pre;overflow-x:auto;line-height:normal;font-family:Menlo,'DejaVu Sans Mono',consolas,'Courier New',monospace\"><span style=\"font-weight: bold\">Model: \"sequential_2\"</span>\n",
              "</pre>\n"
            ]
          },
          "metadata": {}
        },
        {
          "output_type": "display_data",
          "data": {
            "text/plain": [
              "┏━━━━━━━━━━━━━━━━━━━━━━━━━━━━━━━━━━━━━━┳━━━━━━━━━━━━━━━━━━━━━━━━━━━━━┳━━━━━━━━━━━━━━━━━┓\n",
              "┃\u001b[1m \u001b[0m\u001b[1mLayer (type)                        \u001b[0m\u001b[1m \u001b[0m┃\u001b[1m \u001b[0m\u001b[1mOutput Shape               \u001b[0m\u001b[1m \u001b[0m┃\u001b[1m \u001b[0m\u001b[1m        Param #\u001b[0m\u001b[1m \u001b[0m┃\n",
              "┡━━━━━━━━━━━━━━━━━━━━━━━━━━━━━━━━━━━━━━╇━━━━━━━━━━━━━━━━━━━━━━━━━━━━━╇━━━━━━━━━━━━━━━━━┩\n",
              "│ lstm_2 (\u001b[38;5;33mLSTM\u001b[0m)                        │ (\u001b[38;5;45mNone\u001b[0m, \u001b[38;5;34m64\u001b[0m)                  │          \u001b[38;5;34m16,896\u001b[0m │\n",
              "├──────────────────────────────────────┼─────────────────────────────┼─────────────────┤\n",
              "│ dense_4 (\u001b[38;5;33mDense\u001b[0m)                      │ (\u001b[38;5;45mNone\u001b[0m, \u001b[38;5;34m8\u001b[0m)                   │             \u001b[38;5;34m520\u001b[0m │\n",
              "├──────────────────────────────────────┼─────────────────────────────┼─────────────────┤\n",
              "│ dense_5 (\u001b[38;5;33mDense\u001b[0m)                      │ (\u001b[38;5;45mNone\u001b[0m, \u001b[38;5;34m1\u001b[0m)                   │               \u001b[38;5;34m9\u001b[0m │\n",
              "└──────────────────────────────────────┴─────────────────────────────┴─────────────────┘\n"
            ],
            "text/html": [
              "<pre style=\"white-space:pre;overflow-x:auto;line-height:normal;font-family:Menlo,'DejaVu Sans Mono',consolas,'Courier New',monospace\">┏━━━━━━━━━━━━━━━━━━━━━━━━━━━━━━━━━━━━━━┳━━━━━━━━━━━━━━━━━━━━━━━━━━━━━┳━━━━━━━━━━━━━━━━━┓\n",
              "┃<span style=\"font-weight: bold\"> Layer (type)                         </span>┃<span style=\"font-weight: bold\"> Output Shape                </span>┃<span style=\"font-weight: bold\">         Param # </span>┃\n",
              "┡━━━━━━━━━━━━━━━━━━━━━━━━━━━━━━━━━━━━━━╇━━━━━━━━━━━━━━━━━━━━━━━━━━━━━╇━━━━━━━━━━━━━━━━━┩\n",
              "│ lstm_2 (<span style=\"color: #0087ff; text-decoration-color: #0087ff\">LSTM</span>)                        │ (<span style=\"color: #00d7ff; text-decoration-color: #00d7ff\">None</span>, <span style=\"color: #00af00; text-decoration-color: #00af00\">64</span>)                  │          <span style=\"color: #00af00; text-decoration-color: #00af00\">16,896</span> │\n",
              "├──────────────────────────────────────┼─────────────────────────────┼─────────────────┤\n",
              "│ dense_4 (<span style=\"color: #0087ff; text-decoration-color: #0087ff\">Dense</span>)                      │ (<span style=\"color: #00d7ff; text-decoration-color: #00d7ff\">None</span>, <span style=\"color: #00af00; text-decoration-color: #00af00\">8</span>)                   │             <span style=\"color: #00af00; text-decoration-color: #00af00\">520</span> │\n",
              "├──────────────────────────────────────┼─────────────────────────────┼─────────────────┤\n",
              "│ dense_5 (<span style=\"color: #0087ff; text-decoration-color: #0087ff\">Dense</span>)                      │ (<span style=\"color: #00d7ff; text-decoration-color: #00d7ff\">None</span>, <span style=\"color: #00af00; text-decoration-color: #00af00\">1</span>)                   │               <span style=\"color: #00af00; text-decoration-color: #00af00\">9</span> │\n",
              "└──────────────────────────────────────┴─────────────────────────────┴─────────────────┘\n",
              "</pre>\n"
            ]
          },
          "metadata": {}
        },
        {
          "output_type": "display_data",
          "data": {
            "text/plain": [
              "\u001b[1m Total params: \u001b[0m\u001b[38;5;34m17,425\u001b[0m (68.07 KB)\n"
            ],
            "text/html": [
              "<pre style=\"white-space:pre;overflow-x:auto;line-height:normal;font-family:Menlo,'DejaVu Sans Mono',consolas,'Courier New',monospace\"><span style=\"font-weight: bold\"> Total params: </span><span style=\"color: #00af00; text-decoration-color: #00af00\">17,425</span> (68.07 KB)\n",
              "</pre>\n"
            ]
          },
          "metadata": {}
        },
        {
          "output_type": "display_data",
          "data": {
            "text/plain": [
              "\u001b[1m Trainable params: \u001b[0m\u001b[38;5;34m17,425\u001b[0m (68.07 KB)\n"
            ],
            "text/html": [
              "<pre style=\"white-space:pre;overflow-x:auto;line-height:normal;font-family:Menlo,'DejaVu Sans Mono',consolas,'Courier New',monospace\"><span style=\"font-weight: bold\"> Trainable params: </span><span style=\"color: #00af00; text-decoration-color: #00af00\">17,425</span> (68.07 KB)\n",
              "</pre>\n"
            ]
          },
          "metadata": {}
        },
        {
          "output_type": "display_data",
          "data": {
            "text/plain": [
              "\u001b[1m Non-trainable params: \u001b[0m\u001b[38;5;34m0\u001b[0m (0.00 B)\n"
            ],
            "text/html": [
              "<pre style=\"white-space:pre;overflow-x:auto;line-height:normal;font-family:Menlo,'DejaVu Sans Mono',consolas,'Courier New',monospace\"><span style=\"font-weight: bold\"> Non-trainable params: </span><span style=\"color: #00af00; text-decoration-color: #00af00\">0</span> (0.00 B)\n",
              "</pre>\n"
            ]
          },
          "metadata": {}
        }
      ]
    },
    {
      "cell_type": "code",
      "source": [
        "cp = ModelCheckpoint('modelm.keras', save_best_only=True)\n",
        "modelm.compile(loss=MeanSquaredError(), optimizer=Adam(learning_rate=0.0001), metrics=[RootMeanSquaredError()])"
      ],
      "metadata": {
        "id": "RtuvSJb5n1yo"
      },
      "execution_count": 138,
      "outputs": []
    },
    {
      "cell_type": "markdown",
      "source": [
        "## Training and Evaluating Model"
      ],
      "metadata": {
        "id": "bYACF54ZLmmr"
      }
    },
    {
      "cell_type": "code",
      "source": [
        "modelm.fit(X_train, y_train, validation_data=(X_val, y_val), epochs=30, callbacks=[cp])"
      ],
      "metadata": {
        "colab": {
          "base_uri": "https://localhost:8080/"
        },
        "id": "Iq9QbmPmoOIv",
        "outputId": "49014351-c38a-4881-d477-1f0c09cc3714"
      },
      "execution_count": 139,
      "outputs": [
        {
          "output_type": "stream",
          "name": "stdout",
          "text": [
            "Epoch 1/30\n",
            "\u001b[1m4375/4375\u001b[0m \u001b[32m━━━━━━━━━━━━━━━━━━━━\u001b[0m\u001b[37m\u001b[0m \u001b[1m22s\u001b[0m 5ms/step - loss: 18.4782 - root_mean_squared_error: 4.0667 - val_loss: 4.8899 - val_root_mean_squared_error: 2.2113\n",
            "Epoch 2/30\n",
            "\u001b[1m4375/4375\u001b[0m \u001b[32m━━━━━━━━━━━━━━━━━━━━\u001b[0m\u001b[37m\u001b[0m \u001b[1m42s\u001b[0m 5ms/step - loss: 5.6589 - root_mean_squared_error: 2.3787 - val_loss: 4.8197 - val_root_mean_squared_error: 2.1954\n",
            "Epoch 3/30\n",
            "\u001b[1m4375/4375\u001b[0m \u001b[32m━━━━━━━━━━━━━━━━━━━━\u001b[0m\u001b[37m\u001b[0m \u001b[1m19s\u001b[0m 4ms/step - loss: 5.2057 - root_mean_squared_error: 2.2815 - val_loss: 4.3667 - val_root_mean_squared_error: 2.0897\n",
            "Epoch 4/30\n",
            "\u001b[1m4375/4375\u001b[0m \u001b[32m━━━━━━━━━━━━━━━━━━━━\u001b[0m\u001b[37m\u001b[0m \u001b[1m22s\u001b[0m 5ms/step - loss: 5.1102 - root_mean_squared_error: 2.2605 - val_loss: 4.3436 - val_root_mean_squared_error: 2.0841\n",
            "Epoch 5/30\n",
            "\u001b[1m4375/4375\u001b[0m \u001b[32m━━━━━━━━━━━━━━━━━━━━\u001b[0m\u001b[37m\u001b[0m \u001b[1m41s\u001b[0m 5ms/step - loss: 4.9650 - root_mean_squared_error: 2.2282 - val_loss: 4.2751 - val_root_mean_squared_error: 2.0676\n",
            "Epoch 6/30\n",
            "\u001b[1m4375/4375\u001b[0m \u001b[32m━━━━━━━━━━━━━━━━━━━━\u001b[0m\u001b[37m\u001b[0m \u001b[1m19s\u001b[0m 4ms/step - loss: 4.8900 - root_mean_squared_error: 2.2113 - val_loss: 4.5031 - val_root_mean_squared_error: 2.1220\n",
            "Epoch 7/30\n",
            "\u001b[1m4375/4375\u001b[0m \u001b[32m━━━━━━━━━━━━━━━━━━━━\u001b[0m\u001b[37m\u001b[0m \u001b[1m21s\u001b[0m 4ms/step - loss: 4.8368 - root_mean_squared_error: 2.1993 - val_loss: 4.4643 - val_root_mean_squared_error: 2.1129\n",
            "Epoch 8/30\n",
            "\u001b[1m4375/4375\u001b[0m \u001b[32m━━━━━━━━━━━━━━━━━━━━\u001b[0m\u001b[37m\u001b[0m \u001b[1m22s\u001b[0m 5ms/step - loss: 4.7637 - root_mean_squared_error: 2.1825 - val_loss: 4.1834 - val_root_mean_squared_error: 2.0453\n",
            "Epoch 9/30\n",
            "\u001b[1m4375/4375\u001b[0m \u001b[32m━━━━━━━━━━━━━━━━━━━━\u001b[0m\u001b[37m\u001b[0m \u001b[1m19s\u001b[0m 4ms/step - loss: 4.7224 - root_mean_squared_error: 2.1731 - val_loss: 4.0608 - val_root_mean_squared_error: 2.0151\n",
            "Epoch 10/30\n",
            "\u001b[1m4375/4375\u001b[0m \u001b[32m━━━━━━━━━━━━━━━━━━━━\u001b[0m\u001b[37m\u001b[0m \u001b[1m22s\u001b[0m 5ms/step - loss: 4.6578 - root_mean_squared_error: 2.1582 - val_loss: 4.1739 - val_root_mean_squared_error: 2.0430\n",
            "Epoch 11/30\n",
            "\u001b[1m4375/4375\u001b[0m \u001b[32m━━━━━━━━━━━━━━━━━━━━\u001b[0m\u001b[37m\u001b[0m \u001b[1m19s\u001b[0m 4ms/step - loss: 4.6273 - root_mean_squared_error: 2.1511 - val_loss: 4.0961 - val_root_mean_squared_error: 2.0239\n",
            "Epoch 12/30\n",
            "\u001b[1m4375/4375\u001b[0m \u001b[32m━━━━━━━━━━━━━━━━━━━━\u001b[0m\u001b[37m\u001b[0m \u001b[1m21s\u001b[0m 4ms/step - loss: 4.6181 - root_mean_squared_error: 2.1490 - val_loss: 4.0932 - val_root_mean_squared_error: 2.0232\n",
            "Epoch 13/30\n",
            "\u001b[1m4375/4375\u001b[0m \u001b[32m━━━━━━━━━━━━━━━━━━━━\u001b[0m\u001b[37m\u001b[0m \u001b[1m20s\u001b[0m 4ms/step - loss: 4.6175 - root_mean_squared_error: 2.1488 - val_loss: 4.0318 - val_root_mean_squared_error: 2.0079\n",
            "Epoch 14/30\n",
            "\u001b[1m4375/4375\u001b[0m \u001b[32m━━━━━━━━━━━━━━━━━━━━\u001b[0m\u001b[37m\u001b[0m \u001b[1m21s\u001b[0m 4ms/step - loss: 4.5286 - root_mean_squared_error: 2.1280 - val_loss: 3.9603 - val_root_mean_squared_error: 1.9900\n",
            "Epoch 15/30\n",
            "\u001b[1m4375/4375\u001b[0m \u001b[32m━━━━━━━━━━━━━━━━━━━━\u001b[0m\u001b[37m\u001b[0m \u001b[1m20s\u001b[0m 4ms/step - loss: 4.5398 - root_mean_squared_error: 2.1306 - val_loss: 4.0546 - val_root_mean_squared_error: 2.0136\n",
            "Epoch 16/30\n",
            "\u001b[1m4375/4375\u001b[0m \u001b[32m━━━━━━━━━━━━━━━━━━━━\u001b[0m\u001b[37m\u001b[0m \u001b[1m21s\u001b[0m 4ms/step - loss: 4.5590 - root_mean_squared_error: 2.1351 - val_loss: 3.9312 - val_root_mean_squared_error: 1.9827\n",
            "Epoch 17/30\n",
            "\u001b[1m4375/4375\u001b[0m \u001b[32m━━━━━━━━━━━━━━━━━━━━\u001b[0m\u001b[37m\u001b[0m \u001b[1m20s\u001b[0m 4ms/step - loss: 4.5377 - root_mean_squared_error: 2.1301 - val_loss: 3.9468 - val_root_mean_squared_error: 1.9867\n",
            "Epoch 18/30\n",
            "\u001b[1m4375/4375\u001b[0m \u001b[32m━━━━━━━━━━━━━━━━━━━━\u001b[0m\u001b[37m\u001b[0m \u001b[1m22s\u001b[0m 5ms/step - loss: 4.5097 - root_mean_squared_error: 2.1236 - val_loss: 4.2680 - val_root_mean_squared_error: 2.0659\n",
            "Epoch 19/30\n",
            "\u001b[1m4375/4375\u001b[0m \u001b[32m━━━━━━━━━━━━━━━━━━━━\u001b[0m\u001b[37m\u001b[0m \u001b[1m20s\u001b[0m 4ms/step - loss: 4.4963 - root_mean_squared_error: 2.1204 - val_loss: 4.0263 - val_root_mean_squared_error: 2.0066\n",
            "Epoch 20/30\n",
            "\u001b[1m4375/4375\u001b[0m \u001b[32m━━━━━━━━━━━━━━━━━━━━\u001b[0m\u001b[37m\u001b[0m \u001b[1m18s\u001b[0m 4ms/step - loss: 4.4976 - root_mean_squared_error: 2.1207 - val_loss: 4.0408 - val_root_mean_squared_error: 2.0102\n",
            "Epoch 21/30\n",
            "\u001b[1m4375/4375\u001b[0m \u001b[32m━━━━━━━━━━━━━━━━━━━━\u001b[0m\u001b[37m\u001b[0m \u001b[1m22s\u001b[0m 5ms/step - loss: 4.4391 - root_mean_squared_error: 2.1069 - val_loss: 4.0142 - val_root_mean_squared_error: 2.0035\n",
            "Epoch 22/30\n",
            "\u001b[1m4375/4375\u001b[0m \u001b[32m━━━━━━━━━━━━━━━━━━━━\u001b[0m\u001b[37m\u001b[0m \u001b[1m19s\u001b[0m 4ms/step - loss: 4.4647 - root_mean_squared_error: 2.1129 - val_loss: 3.9389 - val_root_mean_squared_error: 1.9847\n",
            "Epoch 23/30\n",
            "\u001b[1m4375/4375\u001b[0m \u001b[32m━━━━━━━━━━━━━━━━━━━━\u001b[0m\u001b[37m\u001b[0m \u001b[1m22s\u001b[0m 4ms/step - loss: 4.4515 - root_mean_squared_error: 2.1098 - val_loss: 3.9660 - val_root_mean_squared_error: 1.9915\n",
            "Epoch 24/30\n",
            "\u001b[1m4375/4375\u001b[0m \u001b[32m━━━━━━━━━━━━━━━━━━━━\u001b[0m\u001b[37m\u001b[0m \u001b[1m19s\u001b[0m 4ms/step - loss: 4.5082 - root_mean_squared_error: 2.1232 - val_loss: 3.8888 - val_root_mean_squared_error: 1.9720\n",
            "Epoch 25/30\n",
            "\u001b[1m4375/4375\u001b[0m \u001b[32m━━━━━━━━━━━━━━━━━━━━\u001b[0m\u001b[37m\u001b[0m \u001b[1m22s\u001b[0m 5ms/step - loss: 4.4411 - root_mean_squared_error: 2.1073 - val_loss: 3.8961 - val_root_mean_squared_error: 1.9738\n",
            "Epoch 26/30\n",
            "\u001b[1m4375/4375\u001b[0m \u001b[32m━━━━━━━━━━━━━━━━━━━━\u001b[0m\u001b[37m\u001b[0m \u001b[1m19s\u001b[0m 4ms/step - loss: 4.4372 - root_mean_squared_error: 2.1064 - val_loss: 3.9591 - val_root_mean_squared_error: 1.9897\n",
            "Epoch 27/30\n",
            "\u001b[1m4375/4375\u001b[0m \u001b[32m━━━━━━━━━━━━━━━━━━━━\u001b[0m\u001b[37m\u001b[0m \u001b[1m22s\u001b[0m 5ms/step - loss: 4.4004 - root_mean_squared_error: 2.0977 - val_loss: 3.9661 - val_root_mean_squared_error: 1.9915\n",
            "Epoch 28/30\n",
            "\u001b[1m4375/4375\u001b[0m \u001b[32m━━━━━━━━━━━━━━━━━━━━\u001b[0m\u001b[37m\u001b[0m \u001b[1m21s\u001b[0m 5ms/step - loss: 4.4130 - root_mean_squared_error: 2.1007 - val_loss: 4.0944 - val_root_mean_squared_error: 2.0235\n",
            "Epoch 29/30\n",
            "\u001b[1m4375/4375\u001b[0m \u001b[32m━━━━━━━━━━━━━━━━━━━━\u001b[0m\u001b[37m\u001b[0m \u001b[1m19s\u001b[0m 4ms/step - loss: 4.4263 - root_mean_squared_error: 2.1038 - val_loss: 3.9408 - val_root_mean_squared_error: 1.9851\n",
            "Epoch 30/30\n",
            "\u001b[1m4375/4375\u001b[0m \u001b[32m━━━━━━━━━━━━━━━━━━━━\u001b[0m\u001b[37m\u001b[0m \u001b[1m20s\u001b[0m 5ms/step - loss: 4.4256 - root_mean_squared_error: 2.1037 - val_loss: 3.9652 - val_root_mean_squared_error: 1.9913\n"
          ]
        },
        {
          "output_type": "execute_result",
          "data": {
            "text/plain": [
              "<keras.src.callbacks.history.History at 0x7ae0f2a35030>"
            ]
          },
          "metadata": {},
          "execution_count": 139
        }
      ]
    },
    {
      "cell_type": "code",
      "source": [
        "from tensorflow.keras.models import load_model\n",
        "modelm = load_model('modelm.keras')"
      ],
      "metadata": {
        "id": "9vorLJb4t5Tk"
      },
      "execution_count": 140,
      "outputs": []
    },
    {
      "cell_type": "code",
      "source": [
        "train_predictions = modelm.predict(X_train)"
      ],
      "metadata": {
        "colab": {
          "base_uri": "https://localhost:8080/"
        },
        "id": "uz36mR31uEUO",
        "outputId": "d73a7bdf-9728-4e83-d83d-6b435f6631e8"
      },
      "execution_count": 141,
      "outputs": [
        {
          "output_type": "stream",
          "name": "stdout",
          "text": [
            "\u001b[1m4375/4375\u001b[0m \u001b[32m━━━━━━━━━━━━━━━━━━━━\u001b[0m\u001b[37m\u001b[0m \u001b[1m8s\u001b[0m 2ms/step\n"
          ]
        }
      ]
    },
    {
      "cell_type": "code",
      "source": [
        "train_actual = y_train.flatten()\n",
        "train_predictions = train_predictions.flatten()\n",
        "\n",
        "# train_results = pd.DataFrame(data={'Train Predictions':train_predictions, 'Actuals':train_actual})\n",
        "# train_results\n",
        "\n",
        "y_test = pd.DataFrame(train_actual)\n",
        "y_pred = pd.DataFrame(train_predictions)"
      ],
      "metadata": {
        "id": "JQbFYnVoufSy"
      },
      "execution_count": 142,
      "outputs": []
    },
    {
      "cell_type": "code",
      "source": [
        "import matplotlib.pyplot as plt\n",
        "\n",
        "plt.figure(figsize=(10, 6))\n",
        "\n",
        "range1, range2 = 2035, 2100\n",
        "plt.plot(y_test.index[range1:range2], y_test[range1:range2], label='Actual')\n",
        "plt.plot(y_test.index[range1:range2], y_pred[range1:range2], label='Predicted')\n",
        "plt.legend()\n",
        "plt.title('LSTM Multivariate Time Series Prediction')\n",
        "plt.show()"
      ],
      "metadata": {
        "colab": {
          "base_uri": "https://localhost:8080/",
          "height": 545
        },
        "id": "g7z1QE88usHC",
        "outputId": "420e519b-a64d-4eb9-b5fe-b535e1c5d08d"
      },
      "execution_count": 144,
      "outputs": [
        {
          "output_type": "display_data",
          "data": {
            "text/plain": [
              "<Figure size 1000x600 with 1 Axes>"
            ],
            "image/png": "[encoded data removed]"
          },
          "metadata": {}
        }
      ]
    },
    {
      "cell_type": "markdown",
      "source": [
        "# XGBoost"
      ],
      "metadata": {
        "id": "__q3PwUhKXDV"
      }
    },
    {
      "cell_type": "markdown",
      "source": [
        "## Pre-processing"
      ],
      "metadata": {
        "id": "JCo_G1ZcMRlR"
      }
    },
    {
      "cell_type": "code",
      "source": [
        "from sklearn.impute import SimpleImputer\n",
        "\n",
        "imputer = SimpleImputer(strategy='mean')\n",
        "# X2 = imputer.fit_transform(X)\n",
        "# Z2 = imputer.transform(Z.values)\n",
        "\n",
        "X_bg = imputer.fit_transform(df_train.filter(like='bg-'))\n",
        "\n",
        "X_insulin = imputer.fit_transform(df_train.filter(like='insulin'))\n",
        "\n",
        "X_cals = imputer.fit_transform(df_train.filter(like='cals'))\n",
        "\n",
        "X_hr = imputer.fit_transform(df_train.filter(like='hr'))\n",
        "\n",
        "X_time = df_train.filter(like='time')\n",
        "X_time['time'] = pd.to_datetime(X_time['time'], format='%H:%M:%S')\n",
        "X_time['time'] = X_time['time'].dt.hour * 60 + X_time['time'].dt.minute\n",
        "X_time = imputer.fit_transform(X_time)\n",
        "\n",
        "X = np.hstack((X_bg, X_insulin, X_cals))\n",
        "\n",
        "\n",
        "y = df_train.iloc[:, -1:].values.flatten() # bg+1:00\n",
        "\n",
        "\n",
        "X.shape, y.shape"
      ],
      "metadata": {
        "colab": {
          "base_uri": "https://localhost:8080/"
        },
        "id": "DaNWKNRSKoB3",
        "outputId": "ba8e3907-9465-4667-838f-14f69a23723a"
      },
      "execution_count": 22,
      "outputs": [
        {
          "output_type": "stream",
          "name": "stderr",
          "text": [
            "<ipython-input-22-2a0eacb19d2f>:16: SettingWithCopyWarning: \n",
            "A value is trying to be set on a copy of a slice from a DataFrame.\n",
            "Try using .loc[row_indexer,col_indexer] = value instead\n",
            "\n",
            "See the caveats in the documentation: https://pandas.pydata.org/pandas-docs/stable/user_guide/indexing.html#returning-a-view-versus-a-copy\n",
            "  X_time['time'] = pd.to_datetime(X_time['time'], format='%H:%M:%S')\n",
            "<ipython-input-22-2a0eacb19d2f>:17: SettingWithCopyWarning: \n",
            "A value is trying to be set on a copy of a slice from a DataFrame.\n",
            "Try using .loc[row_indexer,col_indexer] = value instead\n",
            "\n",
            "See the caveats in the documentation: https://pandas.pydata.org/pandas-docs/stable/user_guide/indexing.html#returning-a-view-versus-a-copy\n",
            "  X_time['time'] = X_time['time'].dt.hour * 60 + X_time['time'].dt.minute\n"
          ]
        },
        {
          "output_type": "execute_result",
          "data": {
            "text/plain": [
              "((177024, 216), (177024,))"
            ]
          },
          "metadata": {},
          "execution_count": 22
        }
      ]
    },
    {
      "cell_type": "code",
      "source": [
        "TRAIN = 140000\n",
        "VAL = 20000\n",
        "X_train, y_train = X[:TRAIN], y[:TRAIN]\n",
        "X_val, y_val = X[TRAIN:TRAIN+VAL], y[TRAIN: TRAIN+VAL]\n",
        "X_test, y_test = X[TRAIN+VAL:], y[TRAIN+VAL:]\n",
        "\n",
        "X_train.shape, y_train.shape, X_val.shape, y_val.shape, X_test.shape, y_test.shape"
      ],
      "metadata": {
        "colab": {
          "base_uri": "https://localhost:8080/"
        },
        "id": "UwONdzquQzC_",
        "outputId": "ee2e37b9-8366-4e63-e56a-35081f63be33"
      },
      "execution_count": 23,
      "outputs": [
        {
          "output_type": "execute_result",
          "data": {
            "text/plain": [
              "((140000, 216), (140000,), (20000, 216), (20000,), (17024, 216), (17024,))"
            ]
          },
          "metadata": {},
          "execution_count": 23
        }
      ]
    },
    {
      "cell_type": "markdown",
      "source": [
        "## Building, training and evaluating model"
      ],
      "metadata": {
        "id": "gUP89PRtMhOM"
      }
    },
    {
      "cell_type": "code",
      "source": [
        "import xgboost as xgb\n",
        "from sklearn.metrics import mean_squared_error\n",
        "\n",
        "train_data = xgb.DMatrix(X_train, label=y_train)\n",
        "test_data = xgb.DMatrix(X_test, label=y_test)\n",
        "\n",
        "params = {\n",
        "    'objective': 'reg:squarederror',\n",
        "    'eval_metric': 'rmse',\n",
        "    'learning_rate': 0.05,\n",
        "    'max_depth': 5,\n",
        "    'subsample': 0.8\n",
        "}\n",
        "\n",
        "modelx = xgb.train(params, train_data, num_boost_round=100)\n",
        "\n",
        "y_pred = modelx.predict(test_data)\n",
        "\n",
        "mse = mean_squared_error(y_test, y_pred)\n",
        "print(f'Mean Squared Error: {mse}')\n",
        "\n"
      ],
      "metadata": {
        "colab": {
          "base_uri": "https://localhost:8080/"
        },
        "id": "1HdjoKIcKogZ",
        "outputId": "00750ad1-32ea-4236-cc3e-68fa29e79896"
      },
      "execution_count": 24,
      "outputs": [
        {
          "output_type": "stream",
          "name": "stdout",
          "text": [
            "Mean Squared Error: 2.977258192792747\n"
          ]
        }
      ]
    },
    {
      "cell_type": "code",
      "source": [
        "import matplotlib.pyplot as plt\n",
        "\n",
        "y_test = pd.DataFrame(y_test)\n",
        "y_pred = pd.DataFrame(y_pred)\n",
        "\n",
        "plt.figure(figsize=(10, 6))\n",
        "\n",
        "range1, range2 = 2085, 2095\n",
        "plt.plot(y_test.index[range1:range2], y_test[range1:range2], label='Actual')\n",
        "plt.plot(y_test.index[range1:range2], y_pred[range1:range2], label='Predicted')\n",
        "plt.legend()\n",
        "plt.title('XGBoost Multivariate Time Series Prediction')\n",
        "plt.show()"
      ],
      "metadata": {
        "colab": {
          "base_uri": "https://localhost:8080/",
          "height": 545
        },
        "id": "8OfhpJtPLz6f",
        "outputId": "385a502c-093c-4b9b-a037-70363296f466"
      },
      "execution_count": 56,
      "outputs": [
        {
          "output_type": "display_data",
          "data": {
            "text/plain": [
              "<Figure size 1000x600 with 1 Axes>"
            ],
            "image/png": "[encoded data removed]"
          },
          "metadata": {}
        }
      ]
    },
    {
      "cell_type": "code",
      "source": [],
      "metadata": {
        "id": "ReUh7bd3A_Sq"
      },
      "execution_count": null,
      "outputs": []
    }
  ]
}